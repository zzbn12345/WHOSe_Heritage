{
 "cells": [
  {
   "cell_type": "markdown",
   "metadata": {},
   "source": [
    "# Statistical Inference on Per-class Metrics"
   ]
  },
  {
   "cell_type": "markdown",
   "metadata": {},
   "source": [
    "## Imports"
   ]
  },
  {
   "cell_type": "code",
   "execution_count": 328,
   "metadata": {},
   "outputs": [],
   "source": [
    "import pandas as pd\n",
    "import numpy as np\n",
    "import scipy as sp\n",
    "from scipy.linalg import eigh\n",
    "import matplotlib.pyplot as plt\n",
    "import matplotlib as matplotlib\n",
    "import random as random\n",
    "import seaborn as sns # gives a better presentation for matplotlib\n",
    "sns.set()\n",
    "from scipy import stats\n",
    "from scipy.stats import f_oneway\n",
    "from statsmodels.stats.multicomp import pairwise_tukeyhsd"
   ]
  },
  {
   "cell_type": "markdown",
   "metadata": {},
   "source": [
    "## Loading Data"
   ]
  },
  {
   "cell_type": "code",
   "execution_count": 337,
   "metadata": {},
   "outputs": [],
   "source": [
    "df = pd.read_table('Results/Results.txt',decimal=',')\n",
    "df = df"
   ]
  },
  {
   "cell_type": "code",
   "execution_count": 284,
   "metadata": {},
   "outputs": [],
   "source": [
    "df=df[df['split']!='train']\n",
    "#df=df[df['split']=='train']"
   ]
  },
  {
   "cell_type": "markdown",
   "metadata": {},
   "source": [
    "## Reporting Per-class Metrics"
   ]
  },
  {
   "cell_type": "code",
   "execution_count": 287,
   "metadata": {},
   "outputs": [],
   "source": [
    "df=df.reset_index()\n",
    "df['class'] = df.reset_index()['index'].apply(lambda x: x%10)\n",
    "df['category'] = df['class'].apply(lambda x: x<6)"
   ]
  },
  {
   "cell_type": "code",
   "execution_count": 288,
   "metadata": {},
   "outputs": [],
   "source": [
    "for name in ['F1','Precision','Recall']:\n",
    "    df['LS_'+name] = df[name]+df[name+'_diff']"
   ]
  },
  {
   "cell_type": "code",
   "execution_count": 289,
   "metadata": {},
   "outputs": [],
   "source": [
    "df_mean = df.groupby('class').mean()"
   ]
  },
  {
   "cell_type": "code",
   "execution_count": 290,
   "metadata": {},
   "outputs": [],
   "source": [
    "df_std = df.groupby('class').std()"
   ]
  },
  {
   "cell_type": "code",
   "execution_count": 291,
   "metadata": {},
   "outputs": [],
   "source": [
    "pd.concat([df_mean,df_std]).to_csv('explainability/Per_class_summary.csv',sep='\\t')"
   ]
  },
  {
   "cell_type": "code",
   "execution_count": 293,
   "metadata": {},
   "outputs": [],
   "source": [
    "for name in ['F1','Precision','Recall']:\n",
    "    df_mean['p_'+name] = df_mean[name+'_diff']/df_mean[name]*100\n",
    "    df['p_'+name] = df[name+'_diff']/df[name]*100"
   ]
  },
  {
   "cell_type": "code",
   "execution_count": 294,
   "metadata": {},
   "outputs": [
    {
     "data": {
      "text/html": [
       "<div>\n",
       "<style scoped>\n",
       "    .dataframe tbody tr th:only-of-type {\n",
       "        vertical-align: middle;\n",
       "    }\n",
       "\n",
       "    .dataframe tbody tr th {\n",
       "        vertical-align: top;\n",
       "    }\n",
       "\n",
       "    .dataframe thead th {\n",
       "        text-align: right;\n",
       "    }\n",
       "</style>\n",
       "<table border=\"1\" class=\"dataframe\">\n",
       "  <thead>\n",
       "    <tr style=\"text-align: right;\">\n",
       "      <th></th>\n",
       "      <th>index</th>\n",
       "      <th>F1</th>\n",
       "      <th>F1_diff</th>\n",
       "      <th>Precision</th>\n",
       "      <th>Precision_diff</th>\n",
       "      <th>Recall</th>\n",
       "      <th>Recall_diff</th>\n",
       "      <th>category</th>\n",
       "      <th>LS_F1</th>\n",
       "      <th>LS_Precision</th>\n",
       "      <th>LS_Recall</th>\n",
       "      <th>p_F1</th>\n",
       "      <th>p_Precision</th>\n",
       "      <th>p_Recall</th>\n",
       "    </tr>\n",
       "    <tr>\n",
       "      <th>class</th>\n",
       "      <th></th>\n",
       "      <th></th>\n",
       "      <th></th>\n",
       "      <th></th>\n",
       "      <th></th>\n",
       "      <th></th>\n",
       "      <th></th>\n",
       "      <th></th>\n",
       "      <th></th>\n",
       "      <th></th>\n",
       "      <th></th>\n",
       "      <th></th>\n",
       "      <th></th>\n",
       "      <th></th>\n",
       "    </tr>\n",
       "  </thead>\n",
       "  <tbody>\n",
       "    <tr>\n",
       "      <th>0</th>\n",
       "      <td>65</td>\n",
       "      <td>0.552873</td>\n",
       "      <td>0.008891</td>\n",
       "      <td>0.499358</td>\n",
       "      <td>-0.032532</td>\n",
       "      <td>0.662398</td>\n",
       "      <td>0.052845</td>\n",
       "      <td>True</td>\n",
       "      <td>0.561764</td>\n",
       "      <td>0.466825</td>\n",
       "      <td>0.715242</td>\n",
       "      <td>1.608165</td>\n",
       "      <td>-6.514840</td>\n",
       "      <td>7.977799</td>\n",
       "    </tr>\n",
       "    <tr>\n",
       "      <th>1</th>\n",
       "      <td>66</td>\n",
       "      <td>0.674998</td>\n",
       "      <td>0.000580</td>\n",
       "      <td>0.678905</td>\n",
       "      <td>0.012946</td>\n",
       "      <td>0.674965</td>\n",
       "      <td>-0.011611</td>\n",
       "      <td>True</td>\n",
       "      <td>0.675578</td>\n",
       "      <td>0.691851</td>\n",
       "      <td>0.663354</td>\n",
       "      <td>0.085891</td>\n",
       "      <td>1.906930</td>\n",
       "      <td>-1.720283</td>\n",
       "    </tr>\n",
       "    <tr>\n",
       "      <th>2</th>\n",
       "      <td>67</td>\n",
       "      <td>0.612901</td>\n",
       "      <td>-0.002803</td>\n",
       "      <td>0.636751</td>\n",
       "      <td>0.002832</td>\n",
       "      <td>0.595579</td>\n",
       "      <td>-0.009603</td>\n",
       "      <td>True</td>\n",
       "      <td>0.610098</td>\n",
       "      <td>0.639582</td>\n",
       "      <td>0.585977</td>\n",
       "      <td>-0.457360</td>\n",
       "      <td>0.444680</td>\n",
       "      <td>-1.612367</td>\n",
       "    </tr>\n",
       "    <tr>\n",
       "      <th>3</th>\n",
       "      <td>68</td>\n",
       "      <td>0.581044</td>\n",
       "      <td>-0.008677</td>\n",
       "      <td>0.621711</td>\n",
       "      <td>-0.010735</td>\n",
       "      <td>0.550911</td>\n",
       "      <td>-0.008568</td>\n",
       "      <td>True</td>\n",
       "      <td>0.572367</td>\n",
       "      <td>0.610976</td>\n",
       "      <td>0.542343</td>\n",
       "      <td>-1.493348</td>\n",
       "      <td>-1.726760</td>\n",
       "      <td>-1.555260</td>\n",
       "    </tr>\n",
       "    <tr>\n",
       "      <th>4</th>\n",
       "      <td>69</td>\n",
       "      <td>0.450968</td>\n",
       "      <td>-0.000875</td>\n",
       "      <td>0.398879</td>\n",
       "      <td>0.010871</td>\n",
       "      <td>0.540315</td>\n",
       "      <td>-0.017362</td>\n",
       "      <td>True</td>\n",
       "      <td>0.450094</td>\n",
       "      <td>0.409750</td>\n",
       "      <td>0.522954</td>\n",
       "      <td>-0.193953</td>\n",
       "      <td>2.725308</td>\n",
       "      <td>-3.213243</td>\n",
       "    </tr>\n",
       "    <tr>\n",
       "      <th>5</th>\n",
       "      <td>70</td>\n",
       "      <td>0.588584</td>\n",
       "      <td>0.024144</td>\n",
       "      <td>0.552655</td>\n",
       "      <td>0.030136</td>\n",
       "      <td>0.655777</td>\n",
       "      <td>0.023137</td>\n",
       "      <td>True</td>\n",
       "      <td>0.612728</td>\n",
       "      <td>0.582791</td>\n",
       "      <td>0.678914</td>\n",
       "      <td>4.101997</td>\n",
       "      <td>5.452888</td>\n",
       "      <td>3.528142</td>\n",
       "    </tr>\n",
       "    <tr>\n",
       "      <th>6</th>\n",
       "      <td>71</td>\n",
       "      <td>0.747786</td>\n",
       "      <td>-0.004252</td>\n",
       "      <td>0.790619</td>\n",
       "      <td>-0.001242</td>\n",
       "      <td>0.717321</td>\n",
       "      <td>-0.008420</td>\n",
       "      <td>False</td>\n",
       "      <td>0.743534</td>\n",
       "      <td>0.789377</td>\n",
       "      <td>0.708901</td>\n",
       "      <td>-0.568618</td>\n",
       "      <td>-0.157035</td>\n",
       "      <td>-1.173828</td>\n",
       "    </tr>\n",
       "    <tr>\n",
       "      <th>7</th>\n",
       "      <td>72</td>\n",
       "      <td>0.730892</td>\n",
       "      <td>-0.006961</td>\n",
       "      <td>0.702917</td>\n",
       "      <td>-0.033750</td>\n",
       "      <td>0.777589</td>\n",
       "      <td>0.026653</td>\n",
       "      <td>False</td>\n",
       "      <td>0.723932</td>\n",
       "      <td>0.669167</td>\n",
       "      <td>0.804242</td>\n",
       "      <td>-0.952330</td>\n",
       "      <td>-4.801423</td>\n",
       "      <td>3.427674</td>\n",
       "    </tr>\n",
       "    <tr>\n",
       "      <th>8</th>\n",
       "      <td>73</td>\n",
       "      <td>0.621065</td>\n",
       "      <td>0.013451</td>\n",
       "      <td>0.588205</td>\n",
       "      <td>0.013444</td>\n",
       "      <td>0.665194</td>\n",
       "      <td>0.007118</td>\n",
       "      <td>False</td>\n",
       "      <td>0.634516</td>\n",
       "      <td>0.601649</td>\n",
       "      <td>0.672312</td>\n",
       "      <td>2.165863</td>\n",
       "      <td>2.285581</td>\n",
       "      <td>1.070045</td>\n",
       "    </tr>\n",
       "    <tr>\n",
       "      <th>9</th>\n",
       "      <td>74</td>\n",
       "      <td>0.822448</td>\n",
       "      <td>0.002325</td>\n",
       "      <td>0.865382</td>\n",
       "      <td>0.003510</td>\n",
       "      <td>0.786567</td>\n",
       "      <td>-0.001149</td>\n",
       "      <td>False</td>\n",
       "      <td>0.824773</td>\n",
       "      <td>0.868892</td>\n",
       "      <td>0.785418</td>\n",
       "      <td>0.282721</td>\n",
       "      <td>0.405564</td>\n",
       "      <td>-0.146078</td>\n",
       "    </tr>\n",
       "  </tbody>\n",
       "</table>\n",
       "</div>"
      ],
      "text/plain": [
       "       index        F1   F1_diff  Precision  Precision_diff    Recall  \\\n",
       "class                                                                   \n",
       "0         65  0.552873  0.008891   0.499358       -0.032532  0.662398   \n",
       "1         66  0.674998  0.000580   0.678905        0.012946  0.674965   \n",
       "2         67  0.612901 -0.002803   0.636751        0.002832  0.595579   \n",
       "3         68  0.581044 -0.008677   0.621711       -0.010735  0.550911   \n",
       "4         69  0.450968 -0.000875   0.398879        0.010871  0.540315   \n",
       "5         70  0.588584  0.024144   0.552655        0.030136  0.655777   \n",
       "6         71  0.747786 -0.004252   0.790619       -0.001242  0.717321   \n",
       "7         72  0.730892 -0.006961   0.702917       -0.033750  0.777589   \n",
       "8         73  0.621065  0.013451   0.588205        0.013444  0.665194   \n",
       "9         74  0.822448  0.002325   0.865382        0.003510  0.786567   \n",
       "\n",
       "       Recall_diff  category     LS_F1  LS_Precision  LS_Recall      p_F1  \\\n",
       "class                                                                       \n",
       "0         0.052845      True  0.561764      0.466825   0.715242  1.608165   \n",
       "1        -0.011611      True  0.675578      0.691851   0.663354  0.085891   \n",
       "2        -0.009603      True  0.610098      0.639582   0.585977 -0.457360   \n",
       "3        -0.008568      True  0.572367      0.610976   0.542343 -1.493348   \n",
       "4        -0.017362      True  0.450094      0.409750   0.522954 -0.193953   \n",
       "5         0.023137      True  0.612728      0.582791   0.678914  4.101997   \n",
       "6        -0.008420     False  0.743534      0.789377   0.708901 -0.568618   \n",
       "7         0.026653     False  0.723932      0.669167   0.804242 -0.952330   \n",
       "8         0.007118     False  0.634516      0.601649   0.672312  2.165863   \n",
       "9        -0.001149     False  0.824773      0.868892   0.785418  0.282721   \n",
       "\n",
       "       p_Precision  p_Recall  \n",
       "class                         \n",
       "0        -6.514840  7.977799  \n",
       "1         1.906930 -1.720283  \n",
       "2         0.444680 -1.612367  \n",
       "3        -1.726760 -1.555260  \n",
       "4         2.725308 -3.213243  \n",
       "5         5.452888  3.528142  \n",
       "6        -0.157035 -1.173828  \n",
       "7        -4.801423  3.427674  \n",
       "8         2.285581  1.070045  \n",
       "9         0.405564 -0.146078  "
      ]
     },
     "execution_count": 294,
     "metadata": {},
     "output_type": "execute_result"
    }
   ],
   "source": [
    "df_mean"
   ]
  },
  {
   "cell_type": "markdown",
   "metadata": {},
   "source": [
    "## Statistic Tests"
   ]
  },
  {
   "cell_type": "markdown",
   "metadata": {},
   "source": [
    "### T-Tests on the Difference within Categories"
   ]
  },
  {
   "cell_type": "code",
   "execution_count": 296,
   "metadata": {},
   "outputs": [],
   "source": [
    "def cohen_d(x1,x2):\n",
    "    n1 = len(x1)\n",
    "    n2 = len(x2)\n",
    "    t,p = stats.ttest_ind(x1,x2)\n",
    "    d = t * np.sqrt(1./n1+1./n2)\n",
    "    print(\"tvalue = {:.2f}, pvalue = {:.2f}, cohen's d = {:.2f}\".format(t,p,d))"
   ]
  },
  {
   "cell_type": "code",
   "execution_count": 297,
   "metadata": {},
   "outputs": [
    {
     "name": "stdout",
     "output_type": "stream",
     "text": [
      "tvalue = 6.36, pvalue = 0.00, cohen's d = 1.30\n"
     ]
    }
   ],
   "source": [
    "cohen_d(df[~df.category]['LS_Precision'],df[df.category]['LS_Precision'])"
   ]
  },
  {
   "cell_type": "code",
   "execution_count": 298,
   "metadata": {},
   "outputs": [
    {
     "name": "stdout",
     "output_type": "stream",
     "text": [
      "tvalue = 6.14, pvalue = 0.00, cohen's d = 1.25\n"
     ]
    }
   ],
   "source": [
    "cohen_d(df[~df.category]['LS_Recall'],df[df.category]['LS_Recall'])"
   ]
  },
  {
   "cell_type": "code",
   "execution_count": 299,
   "metadata": {},
   "outputs": [
    {
     "name": "stdout",
     "output_type": "stream",
     "text": [
      "tvalue = 8.20, pvalue = 0.00, cohen's d = 1.67\n"
     ]
    }
   ],
   "source": [
    "cohen_d(df[~df.category]['LS_F1'],df[df.category]['LS_F1'])"
   ]
  },
  {
   "cell_type": "code",
   "execution_count": 258,
   "metadata": {},
   "outputs": [
    {
     "data": {
      "text/plain": [
       "Ttest_indResult(statistic=-0.4251909014014976, pvalue=0.6716297013731753)"
      ]
     },
     "execution_count": 258,
     "metadata": {},
     "output_type": "execute_result"
    }
   ],
   "source": [
    "stats.ttest_ind(df[~df.category]['p_Precision'],df[df.category]['p_Precision'])"
   ]
  },
  {
   "cell_type": "code",
   "execution_count": 259,
   "metadata": {},
   "outputs": [
    {
     "data": {
      "text/plain": [
       "Ttest_indResult(statistic=-0.054979891214841016, pvalue=0.9562664148971703)"
      ]
     },
     "execution_count": 259,
     "metadata": {},
     "output_type": "execute_result"
    }
   ],
   "source": [
    "stats.ttest_ind(df[~df.category]['p_Recall'],df[df.category]['p_Recall'])"
   ]
  },
  {
   "cell_type": "markdown",
   "metadata": {},
   "source": [
    "### One-way ANOVA"
   ]
  },
  {
   "cell_type": "code",
   "execution_count": 300,
   "metadata": {},
   "outputs": [
    {
     "data": {
      "text/plain": [
       "F_onewayResult(statistic=12.318016724606172, pvalue=5.479419309009241e-08)"
      ]
     },
     "execution_count": 300,
     "metadata": {},
     "output_type": "execute_result"
    }
   ],
   "source": [
    "f_oneway(df[df['class']==0]['LS_F1'], df[df['class']==1]['LS_F1'], df[df['class']==2]['LS_F1'], \n",
    "         df[df['class']==3]['LS_F1'], df[df['class']==4]['LS_F1'], df[df['class']==5]['LS_F1'])"
   ]
  },
  {
   "cell_type": "code",
   "execution_count": 316,
   "metadata": {},
   "outputs": [
    {
     "data": {
      "text/plain": [
       "F_onewayResult(statistic=26.096170823614877, pvalue=3.814058122521991e-09)"
      ]
     },
     "execution_count": 316,
     "metadata": {},
     "output_type": "execute_result"
    }
   ],
   "source": [
    "f_oneway(df[df['class']==6]['LS_F1'], df[df['class']==7]['LS_F1'], df[df['class']==8]['LS_F1'], \n",
    "         df[df['class']==9]['LS_F1'])"
   ]
  },
  {
   "cell_type": "code",
   "execution_count": 312,
   "metadata": {},
   "outputs": [
    {
     "data": {
      "text/plain": [
       "F_onewayResult(statistic=1.5068757624200868, pvalue=0.20306335602359876)"
      ]
     },
     "execution_count": 312,
     "metadata": {},
     "output_type": "execute_result"
    }
   ],
   "source": [
    "f_oneway(df[df['class']==0]['p_F1'], df[df['class']==1]['p_F1'], df[df['class']==2]['p_F1'], \n",
    "         df[df['class']==3]['p_F1'], df[df['class']==4]['p_F1'], df[df['class']==5]['p_F1'])"
   ]
  },
  {
   "cell_type": "code",
   "execution_count": 317,
   "metadata": {},
   "outputs": [
    {
     "data": {
      "text/plain": [
       "F_onewayResult(statistic=1.5004664766371505, pvalue=0.2309263033237822)"
      ]
     },
     "execution_count": 317,
     "metadata": {},
     "output_type": "execute_result"
    }
   ],
   "source": [
    "f_oneway(df[df['class']==6]['p_F1'], df[df['class']==7]['p_F1'], df[df['class']==8]['p_F1'], \n",
    "         df[df['class']==9]['p_F1'])"
   ]
  },
  {
   "cell_type": "markdown",
   "metadata": {},
   "source": [
    "### Post-hoc Comparison"
   ]
  },
  {
   "cell_type": "code",
   "execution_count": 252,
   "metadata": {},
   "outputs": [
    {
     "name": "stdout",
     "output_type": "stream",
     "text": [
      "Multiple Comparison of Means - Tukey HSD, FWER=0.05 \n",
      "====================================================\n",
      "group1 group2 meandiff p-adj   lower   upper  reject\n",
      "----------------------------------------------------\n",
      "     0      1   0.1138 0.0055  0.0241  0.2035   True\n",
      "     0      2   0.0483 0.5936 -0.0414   0.138  False\n",
      "     0      3   0.0106    0.9 -0.0791  0.1003  False\n",
      "     0      4  -0.1117 0.0068 -0.2014  -0.022   True\n",
      "     0      5    0.051 0.5448 -0.0387  0.1406  False\n",
      "     1      2  -0.0655 0.2748 -0.1552  0.0242  False\n",
      "     1      3  -0.1032 0.0153 -0.1929 -0.0135   True\n",
      "     1      4  -0.2255  0.001 -0.3152 -0.1358   True\n",
      "     1      5  -0.0629 0.3179 -0.1525  0.0268  False\n",
      "     2      3  -0.0377 0.7901 -0.1274   0.052  False\n",
      "     2      4    -0.16  0.001 -0.2497 -0.0703   True\n",
      "     2      5   0.0026    0.9 -0.0871  0.0923  False\n",
      "     3      4  -0.1223 0.0023  -0.212 -0.0326   True\n",
      "     3      5   0.0404 0.7413 -0.0493    0.13  False\n",
      "     4      5   0.1626  0.001  0.0729  0.2523   True\n",
      "----------------------------------------------------\n"
     ]
    }
   ],
   "source": [
    "print( pairwise_tukeyhsd(df[df.category]['LS_F1'], df[df.category]['class']))"
   ]
  },
  {
   "cell_type": "code",
   "execution_count": 253,
   "metadata": {},
   "outputs": [
    {
     "name": "stdout",
     "output_type": "stream",
     "text": [
      "Multiple Comparison of Means - Tukey HSD, FWER=0.05 \n",
      "====================================================\n",
      "group1 group2 meandiff p-adj   lower   upper  reject\n",
      "----------------------------------------------------\n",
      "     6      7  -0.0196 0.7794 -0.0778  0.0386  False\n",
      "     6      8   -0.109  0.001 -0.1673 -0.0508   True\n",
      "     6      9   0.0812 0.0033   0.023  0.1395   True\n",
      "     7      8  -0.0894 0.0011 -0.1477 -0.0312   True\n",
      "     7      9   0.1008  0.001  0.0426  0.1591   True\n",
      "     8      9   0.1903  0.001   0.132  0.2485   True\n",
      "----------------------------------------------------\n"
     ]
    }
   ],
   "source": [
    "print( pairwise_tukeyhsd(df[~df.category]['LS_F1'], df[~df.category]['class']))"
   ]
  },
  {
   "cell_type": "code",
   "execution_count": 254,
   "metadata": {},
   "outputs": [
    {
     "name": "stdout",
     "output_type": "stream",
     "text": [
      "Multiple Comparison of Means - Tukey HSD, FWER=0.05 \n",
      "====================================================\n",
      "group1 group2 meandiff p-adj   lower   upper  reject\n",
      "----------------------------------------------------\n",
      "     0      1    0.225  0.001  0.1137  0.3364   True\n",
      "     0      2   0.1728  0.001  0.0614  0.2841   True\n",
      "     0      3   0.1442 0.0044  0.0328  0.2555   True\n",
      "     0      4  -0.0571 0.6375 -0.1684  0.0543  False\n",
      "     0      5    0.116 0.0367  0.0046  0.2273   True\n",
      "     1      2  -0.0523 0.7092 -0.1636  0.0591  False\n",
      "     1      3  -0.0809 0.2803 -0.1922  0.0305  False\n",
      "     1      4  -0.2821  0.001 -0.3935 -0.1707   True\n",
      "     1      5  -0.1091 0.0582 -0.2204  0.0023  False\n",
      "     2      3  -0.0286    0.9   -0.14  0.0828  False\n",
      "     2      4  -0.2298  0.001 -0.3412 -0.1185   True\n",
      "     2      5  -0.0568 0.6417 -0.1682  0.0546  False\n",
      "     3      4  -0.2012  0.001 -0.3126 -0.0899   True\n",
      "     3      5  -0.0282    0.9 -0.1396  0.0832  False\n",
      "     4      5    0.173  0.001  0.0617  0.2844   True\n",
      "----------------------------------------------------\n"
     ]
    }
   ],
   "source": [
    "print( pairwise_tukeyhsd(df[df.category]['LS_Precision'], df[df.category]['class']))"
   ]
  },
  {
   "cell_type": "code",
   "execution_count": 255,
   "metadata": {},
   "outputs": [
    {
     "name": "stdout",
     "output_type": "stream",
     "text": [
      "Multiple Comparison of Means - Tukey HSD, FWER=0.05 \n",
      "====================================================\n",
      "group1 group2 meandiff p-adj   lower   upper  reject\n",
      "----------------------------------------------------\n",
      "     6      7  -0.1202 0.0048 -0.2097 -0.0307   True\n",
      "     6      8  -0.1877  0.001 -0.2772 -0.0982   True\n",
      "     6      9   0.0795 0.0966   -0.01   0.169  False\n",
      "     7      8  -0.0675 0.1954  -0.157   0.022  False\n",
      "     7      9   0.1997  0.001  0.1102  0.2892   True\n",
      "     8      9   0.2672  0.001  0.1778  0.3567   True\n",
      "----------------------------------------------------\n"
     ]
    }
   ],
   "source": [
    "print( pairwise_tukeyhsd(df[~df.category]['LS_Precision'], df[~df.category]['class']))"
   ]
  },
  {
   "cell_type": "code",
   "execution_count": 256,
   "metadata": {},
   "outputs": [
    {
     "name": "stdout",
     "output_type": "stream",
     "text": [
      "Multiple Comparison of Means - Tukey HSD, FWER=0.05 \n",
      "====================================================\n",
      "group1 group2 meandiff p-adj   lower   upper  reject\n",
      "----------------------------------------------------\n",
      "     0      1  -0.0519 0.7658 -0.1711  0.0673  False\n",
      "     0      2  -0.1293 0.0262 -0.2485 -0.0101   True\n",
      "     0      3  -0.1729  0.001 -0.2921 -0.0537   True\n",
      "     0      4  -0.1923  0.001 -0.3115 -0.0731   True\n",
      "     0      5  -0.0363    0.9 -0.1555  0.0829  False\n",
      "     1      2  -0.0774 0.4044 -0.1966  0.0418  False\n",
      "     1      3   -0.121 0.0447 -0.2402 -0.0018   True\n",
      "     1      4  -0.1404 0.0122 -0.2596 -0.0212   True\n",
      "     1      5   0.0156    0.9 -0.1036  0.1348  False\n",
      "     2      3  -0.0436 0.8809 -0.1628  0.0756  False\n",
      "     2      4   -0.063 0.6105 -0.1822  0.0562  False\n",
      "     2      5   0.0929 0.2105 -0.0263  0.2121  False\n",
      "     3      4  -0.0194    0.9 -0.1386  0.0998  False\n",
      "     3      5   0.1366 0.0159  0.0174  0.2558   True\n",
      "     4      5    0.156 0.0039  0.0368  0.2752   True\n",
      "----------------------------------------------------\n"
     ]
    }
   ],
   "source": [
    "print( pairwise_tukeyhsd(df[df.category]['LS_Recall'], df[df.category]['class']))"
   ]
  },
  {
   "cell_type": "code",
   "execution_count": 314,
   "metadata": {},
   "outputs": [
    {
     "name": "stdout",
     "output_type": "stream",
     "text": [
      "Multiple Comparison of Means - Tukey HSD, FWER=0.05 \n",
      "====================================================\n",
      "group1 group2 meandiff p-adj   lower   upper  reject\n",
      "----------------------------------------------------\n",
      "     6      7   0.0953 0.0016  0.0312  0.1595   True\n",
      "     6      8  -0.0366 0.4281 -0.1007  0.0275  False\n",
      "     6      9   0.0765  0.014  0.0124  0.1406   True\n",
      "     7      8  -0.1319  0.001  -0.196 -0.0678   True\n",
      "     7      9  -0.0188 0.8432 -0.0829  0.0453  False\n",
      "     8      9   0.1131  0.001   0.049  0.1772   True\n",
      "----------------------------------------------------\n"
     ]
    }
   ],
   "source": [
    "print( pairwise_tukeyhsd(df[~df.category]['LS_Recall'], df[~df.category]['class']))"
   ]
  },
  {
   "cell_type": "code",
   "execution_count": 319,
   "metadata": {},
   "outputs": [
    {
     "name": "stdout",
     "output_type": "stream",
     "text": [
      " Multiple Comparison of Means - Tukey HSD, FWER=0.05 \n",
      "=====================================================\n",
      "group1 group2 meandiff p-adj   lower    upper  reject\n",
      "-----------------------------------------------------\n",
      "     0      1  -1.3449    0.9   -8.008  5.3182  False\n",
      "     0      2  -1.8337    0.9  -8.4968  4.8294  False\n",
      "     0      3  -2.9597    0.9  -9.6228  3.7034  False\n",
      "     0      4  -1.5308    0.9  -8.1939  5.1322  False\n",
      "     0      5   2.6349    0.9  -4.0282   9.298  False\n",
      "     0      6  -1.8329    0.9   -8.496  4.8302  False\n",
      "     0      7  -2.4992    0.9  -9.1623  4.1639  False\n",
      "     0      8   0.9539    0.9  -5.7092   7.617  False\n",
      "     0      9  -1.1709    0.9   -7.834  5.4922  False\n",
      "     1      2  -0.4888    0.9  -7.1519  6.1743  False\n",
      "     1      3  -1.6149    0.9   -8.278  5.0482  False\n",
      "     1      4   -0.186    0.9  -6.8491  6.4771  False\n",
      "     1      5   3.9798 0.6249  -2.6833 10.6429  False\n",
      "     1      6   -0.488    0.9  -7.1511  6.1751  False\n",
      "     1      7  -1.1543    0.9  -7.8174  5.5088  False\n",
      "     1      8   2.2987    0.9  -4.3643  8.9618  False\n",
      "     1      9    0.174    0.9  -6.4891  6.8371  False\n",
      "     2      3   -1.126    0.9  -7.7891  5.5371  False\n",
      "     2      4   0.3029    0.9  -6.3602   6.966  False\n",
      "     2      5   4.4686 0.4822  -2.1945 11.1317  False\n",
      "     2      6   0.0008    0.9  -6.6623  6.6639  False\n",
      "     2      7  -0.6655    0.9  -7.3285  5.9976  False\n",
      "     2      8   2.7876    0.9  -3.8755  9.4507  False\n",
      "     2      9   0.6628    0.9  -6.0003  7.3259  False\n",
      "     3      4   1.4289    0.9  -5.2342   8.092  False\n",
      "     3      5   5.5946 0.1799  -1.0685 12.2577  False\n",
      "     3      6   1.1268    0.9  -5.5362  7.7899  False\n",
      "     3      7   0.4606    0.9  -6.2025  7.1237  False\n",
      "     3      8   3.9136 0.6441  -2.7495 10.5767  False\n",
      "     3      9   1.7888    0.9  -4.8743  8.4519  False\n",
      "     4      5   4.1657 0.5708  -2.4974 10.8288  False\n",
      "     4      6   -0.302    0.9  -6.9651   6.361  False\n",
      "     4      7  -0.9683    0.9  -7.6314  5.6948  False\n",
      "     4      8   2.4847    0.9  -4.1784  9.1478  False\n",
      "     4      9   0.3599    0.9  -6.3032   7.023  False\n",
      "     5      6  -4.4678 0.4824 -11.1309  2.1953  False\n",
      "     5      7  -5.1341 0.2831 -11.7972   1.529  False\n",
      "     5      8   -1.681    0.9  -8.3441  4.9821  False\n",
      "     5      9  -3.8058 0.6755 -10.4689  2.8573  False\n",
      "     6      7  -0.6663    0.9  -7.3294  5.9968  False\n",
      "     6      8   2.7868    0.9  -3.8763  9.4498  False\n",
      "     6      9    0.662    0.9  -6.0011  7.3251  False\n",
      "     7      8    3.453  0.778  -3.2101 10.1161  False\n",
      "     7      9   1.3283    0.9  -5.3348  7.9914  False\n",
      "     8      9  -2.1248    0.9  -8.7879  4.5383  False\n",
      "-----------------------------------------------------\n"
     ]
    }
   ],
   "source": [
    "print( pairwise_tukeyhsd(df['p_F1'], df['class']))"
   ]
  },
  {
   "cell_type": "markdown",
   "metadata": {},
   "source": [
    "## Data Association"
   ]
  },
  {
   "cell_type": "code",
   "execution_count": 329,
   "metadata": {},
   "outputs": [],
   "source": [
    "def get_prior():\n",
    "    prior = pd.read_csv(args.prior_csv,sep=';',names=names, skiprows=1)\n",
    "    return(prior)"
   ]
  },
  {
   "cell_type": "code",
   "execution_count": 330,
   "metadata": {},
   "outputs": [],
   "source": [
    "args = Namespace(\n",
    "    prior_csv = 'Data/Coappearance_matrix.csv',\n",
    ")"
   ]
  },
  {
   "cell_type": "code",
   "execution_count": 334,
   "metadata": {},
   "outputs": [],
   "source": [
    "names = ['C1','C2','C3','C4','C5','C6','N7','N8','N9','N10']\n",
    "prior = get_prior()"
   ]
  },
  {
   "cell_type": "code",
   "execution_count": 335,
   "metadata": {},
   "outputs": [
    {
     "data": {
      "text/html": [
       "<div>\n",
       "<style scoped>\n",
       "    .dataframe tbody tr th:only-of-type {\n",
       "        vertical-align: middle;\n",
       "    }\n",
       "\n",
       "    .dataframe tbody tr th {\n",
       "        vertical-align: top;\n",
       "    }\n",
       "\n",
       "    .dataframe thead th {\n",
       "        text-align: right;\n",
       "    }\n",
       "</style>\n",
       "<table border=\"1\" class=\"dataframe\">\n",
       "  <thead>\n",
       "    <tr style=\"text-align: right;\">\n",
       "      <th></th>\n",
       "      <th>C1</th>\n",
       "      <th>C2</th>\n",
       "      <th>C3</th>\n",
       "      <th>C4</th>\n",
       "      <th>C5</th>\n",
       "      <th>C6</th>\n",
       "      <th>N7</th>\n",
       "      <th>N8</th>\n",
       "      <th>N9</th>\n",
       "      <th>N10</th>\n",
       "    </tr>\n",
       "  </thead>\n",
       "  <tbody>\n",
       "    <tr>\n",
       "      <th>c1</th>\n",
       "      <td>3</td>\n",
       "      <td>144</td>\n",
       "      <td>130</td>\n",
       "      <td>169</td>\n",
       "      <td>17</td>\n",
       "      <td>82</td>\n",
       "      <td>9</td>\n",
       "      <td>1</td>\n",
       "      <td>4</td>\n",
       "      <td>4</td>\n",
       "    </tr>\n",
       "    <tr>\n",
       "      <th>c2</th>\n",
       "      <td>144</td>\n",
       "      <td>10</td>\n",
       "      <td>191</td>\n",
       "      <td>325</td>\n",
       "      <td>55</td>\n",
       "      <td>120</td>\n",
       "      <td>4</td>\n",
       "      <td>0</td>\n",
       "      <td>2</td>\n",
       "      <td>3</td>\n",
       "    </tr>\n",
       "    <tr>\n",
       "      <th>c3</th>\n",
       "      <td>130</td>\n",
       "      <td>191</td>\n",
       "      <td>44</td>\n",
       "      <td>248</td>\n",
       "      <td>72</td>\n",
       "      <td>131</td>\n",
       "      <td>17</td>\n",
       "      <td>6</td>\n",
       "      <td>15</td>\n",
       "      <td>15</td>\n",
       "    </tr>\n",
       "    <tr>\n",
       "      <th>c4</th>\n",
       "      <td>169</td>\n",
       "      <td>325</td>\n",
       "      <td>248</td>\n",
       "      <td>52</td>\n",
       "      <td>81</td>\n",
       "      <td>137</td>\n",
       "      <td>8</td>\n",
       "      <td>3</td>\n",
       "      <td>6</td>\n",
       "      <td>8</td>\n",
       "    </tr>\n",
       "    <tr>\n",
       "      <th>c5</th>\n",
       "      <td>17</td>\n",
       "      <td>55</td>\n",
       "      <td>72</td>\n",
       "      <td>81</td>\n",
       "      <td>14</td>\n",
       "      <td>26</td>\n",
       "      <td>12</td>\n",
       "      <td>4</td>\n",
       "      <td>4</td>\n",
       "      <td>4</td>\n",
       "    </tr>\n",
       "    <tr>\n",
       "      <th>c6</th>\n",
       "      <td>82</td>\n",
       "      <td>120</td>\n",
       "      <td>131</td>\n",
       "      <td>137</td>\n",
       "      <td>26</td>\n",
       "      <td>12</td>\n",
       "      <td>8</td>\n",
       "      <td>4</td>\n",
       "      <td>4</td>\n",
       "      <td>7</td>\n",
       "    </tr>\n",
       "    <tr>\n",
       "      <th>n7</th>\n",
       "      <td>9</td>\n",
       "      <td>4</td>\n",
       "      <td>17</td>\n",
       "      <td>8</td>\n",
       "      <td>12</td>\n",
       "      <td>8</td>\n",
       "      <td>8</td>\n",
       "      <td>61</td>\n",
       "      <td>68</td>\n",
       "      <td>81</td>\n",
       "    </tr>\n",
       "    <tr>\n",
       "      <th>n8</th>\n",
       "      <td>1</td>\n",
       "      <td>0</td>\n",
       "      <td>6</td>\n",
       "      <td>3</td>\n",
       "      <td>4</td>\n",
       "      <td>4</td>\n",
       "      <td>61</td>\n",
       "      <td>21</td>\n",
       "      <td>34</td>\n",
       "      <td>34</td>\n",
       "    </tr>\n",
       "    <tr>\n",
       "      <th>n9</th>\n",
       "      <td>4</td>\n",
       "      <td>2</td>\n",
       "      <td>15</td>\n",
       "      <td>6</td>\n",
       "      <td>4</td>\n",
       "      <td>4</td>\n",
       "      <td>68</td>\n",
       "      <td>34</td>\n",
       "      <td>6</td>\n",
       "      <td>100</td>\n",
       "    </tr>\n",
       "    <tr>\n",
       "      <th>n10</th>\n",
       "      <td>4</td>\n",
       "      <td>3</td>\n",
       "      <td>15</td>\n",
       "      <td>8</td>\n",
       "      <td>4</td>\n",
       "      <td>7</td>\n",
       "      <td>81</td>\n",
       "      <td>34</td>\n",
       "      <td>100</td>\n",
       "      <td>18</td>\n",
       "    </tr>\n",
       "  </tbody>\n",
       "</table>\n",
       "</div>"
      ],
      "text/plain": [
       "      C1   C2   C3   C4  C5   C6  N7  N8   N9  N10\n",
       "c1     3  144  130  169  17   82   9   1    4    4\n",
       "c2   144   10  191  325  55  120   4   0    2    3\n",
       "c3   130  191   44  248  72  131  17   6   15   15\n",
       "c4   169  325  248   52  81  137   8   3    6    8\n",
       "c5    17   55   72   81  14   26  12   4    4    4\n",
       "c6    82  120  131  137  26   12   8   4    4    7\n",
       "n7     9    4   17    8  12    8   8  61   68   81\n",
       "n8     1    0    6    3   4    4  61  21   34   34\n",
       "n9     4    2   15    6   4    4  68  34    6  100\n",
       "n10    4    3   15    8   4    7  81  34  100   18"
      ]
     },
     "execution_count": 335,
     "metadata": {},
     "output_type": "execute_result"
    }
   ],
   "source": [
    "prior"
   ]
  },
  {
   "cell_type": "code",
   "execution_count": 336,
   "metadata": {},
   "outputs": [
    {
     "data": {
      "image/png": "[encoded data removed]",
      "text/plain": [
       "<Figure size 576x576 with 1 Axes>"
      ]
     },
     "metadata": {},
     "output_type": "display_data"
    }
   ],
   "source": [
    "mask = np.zeros_like(prior)\n",
    "mask[np.triu_indices_from(mask)] = True\n",
    "with sns.axes_style(\"white\"):\n",
    "    f, ax = plt.subplots(figsize=(8, 8))\n",
    "    ax = sns.heatmap(prior, annot=True, center=0, square=True, vmax=500, vmin=0, cmap=\"RdBu\",fmt='d',cbar=False)\n",
    "    label_x = ax.get_xticklabels()\n",
    "    plt.setp(label_x, horizontalalignment='right')\n",
    "    plt.show()"
   ]
  },
  {
   "cell_type": "code",
   "execution_count": null,
   "metadata": {},
   "outputs": [],
   "source": []
  }
 ],
 "metadata": {
  "kernelspec": {
   "display_name": "Python 3",
   "language": "python",
   "name": "python3"
  },
  "language_info": {
   "codemirror_mode": {
    "name": "ipython",
    "version": 3
   },
   "file_extension": ".py",
   "mimetype": "text/x-python",
   "name": "python",
   "nbconvert_exporter": "python",
   "pygments_lexer": "ipython3",
   "version": "3.7.4"
  }
 },
 "nbformat": 4,
 "nbformat_minor": 4
}
